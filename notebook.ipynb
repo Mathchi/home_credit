{
 "cells": [
  {
   "cell_type": "code",
   "execution_count": 14,
   "metadata": {
    "collapsed": true
   },
   "outputs": [
    {
     "name": "stdout",
     "output_type": "stream",
     "text": [
      "/Users/mvahit/Documents/GitHub/home_credit/models/reference\n",
      "/Users/mvahit/Documents/GitHub/home_credit/models/reference\n"
     ]
    }
   ],
   "source": [
    "import os\n",
    "import pickle\n",
    "import pandas as pd\n",
    "\n",
    "print(os.getcwd())\n",
    "\n",
    "os.chdir('/Users/mvahit/Documents/GitHub/home_credit/models/reference')\n",
    "\n",
    "print(os.getcwd())\n",
    "\n",
    "model = pickle.load(open('lightgbm_fold_6.pkl', 'rb'))\n",
    "\n",
    "df = pd.read_pickle(\"/Users/mvahit/Documents/GitHub/home_credit/data/final_test_df.pkl\")"
   ]
  },
  {
   "cell_type": "code",
   "execution_count": 15,
   "outputs": [
    {
     "data": {
      "text/plain": "       index  SK_ID_CURR  TARGET  CODE_GENDER  FLAG_OWN_CAR  FLAG_OWN_REALTY  \\\n10000      0      100001     NaN            1             0                0   \n10001      1      100005     NaN            0             0                0   \n10002      2      100013     NaN            0             1                0   \n10003      3      100028     NaN            1             0                0   \n10004      4      100038     NaN            0             1                1   \n\n       CNT_CHILDREN  AMT_INCOME_TOTAL  AMT_CREDIT  AMT_ANNUITY  ...  \\\n10000             0          135000.0    568800.0      20560.5  ...   \n10001             0           99000.0    222768.0      17370.0  ...   \n10002             0          202500.0    663264.0      69777.0  ...   \n10003             2          315000.0   1575000.0      49018.5  ...   \n10004             1          180000.0    625500.0      32067.0  ...   \n\n       CC_NAME_CONTRACT_STATUS_Signed_MAX  \\\n10000                                 NaN   \n10001                                 NaN   \n10002                                 NaN   \n10003                                 NaN   \n10004                                 NaN   \n\n       CC_NAME_CONTRACT_STATUS_Signed_MEAN  \\\n10000                                  NaN   \n10001                                  NaN   \n10002                                  NaN   \n10003                                  NaN   \n10004                                  NaN   \n\n       CC_NAME_CONTRACT_STATUS_Signed_SUM  CC_NAME_CONTRACT_STATUS_Signed_VAR  \\\n10000                                 NaN                                 NaN   \n10001                                 NaN                                 NaN   \n10002                                 NaN                                 NaN   \n10003                                 NaN                                 NaN   \n10004                                 NaN                                 NaN   \n\n       CC_NAME_CONTRACT_STATUS_nan_MIN  CC_NAME_CONTRACT_STATUS_nan_MAX  \\\n10000                              NaN                              NaN   \n10001                              NaN                              NaN   \n10002                              NaN                              NaN   \n10003                              NaN                              NaN   \n10004                              NaN                              NaN   \n\n       CC_NAME_CONTRACT_STATUS_nan_MEAN  CC_NAME_CONTRACT_STATUS_nan_SUM  \\\n10000                               NaN                              NaN   \n10001                               NaN                              NaN   \n10002                               NaN                              NaN   \n10003                               NaN                              NaN   \n10004                               NaN                              NaN   \n\n       CC_NAME_CONTRACT_STATUS_nan_VAR  CC_COUNT  \n10000                              NaN       NaN  \n10001                              NaN       NaN  \n10002                              NaN       NaN  \n10003                              NaN       NaN  \n10004                              NaN       NaN  \n\n[5 rows x 768 columns]",
      "text/html": "<div>\n<style scoped>\n    .dataframe tbody tr th:only-of-type {\n        vertical-align: middle;\n    }\n\n    .dataframe tbody tr th {\n        vertical-align: top;\n    }\n\n    .dataframe thead th {\n        text-align: right;\n    }\n</style>\n<table border=\"1\" class=\"dataframe\">\n  <thead>\n    <tr style=\"text-align: right;\">\n      <th></th>\n      <th>index</th>\n      <th>SK_ID_CURR</th>\n      <th>TARGET</th>\n      <th>CODE_GENDER</th>\n      <th>FLAG_OWN_CAR</th>\n      <th>FLAG_OWN_REALTY</th>\n      <th>CNT_CHILDREN</th>\n      <th>AMT_INCOME_TOTAL</th>\n      <th>AMT_CREDIT</th>\n      <th>AMT_ANNUITY</th>\n      <th>...</th>\n      <th>CC_NAME_CONTRACT_STATUS_Signed_MAX</th>\n      <th>CC_NAME_CONTRACT_STATUS_Signed_MEAN</th>\n      <th>CC_NAME_CONTRACT_STATUS_Signed_SUM</th>\n      <th>CC_NAME_CONTRACT_STATUS_Signed_VAR</th>\n      <th>CC_NAME_CONTRACT_STATUS_nan_MIN</th>\n      <th>CC_NAME_CONTRACT_STATUS_nan_MAX</th>\n      <th>CC_NAME_CONTRACT_STATUS_nan_MEAN</th>\n      <th>CC_NAME_CONTRACT_STATUS_nan_SUM</th>\n      <th>CC_NAME_CONTRACT_STATUS_nan_VAR</th>\n      <th>CC_COUNT</th>\n    </tr>\n  </thead>\n  <tbody>\n    <tr>\n      <th>10000</th>\n      <td>0</td>\n      <td>100001</td>\n      <td>NaN</td>\n      <td>1</td>\n      <td>0</td>\n      <td>0</td>\n      <td>0</td>\n      <td>135000.0</td>\n      <td>568800.0</td>\n      <td>20560.5</td>\n      <td>...</td>\n      <td>NaN</td>\n      <td>NaN</td>\n      <td>NaN</td>\n      <td>NaN</td>\n      <td>NaN</td>\n      <td>NaN</td>\n      <td>NaN</td>\n      <td>NaN</td>\n      <td>NaN</td>\n      <td>NaN</td>\n    </tr>\n    <tr>\n      <th>10001</th>\n      <td>1</td>\n      <td>100005</td>\n      <td>NaN</td>\n      <td>0</td>\n      <td>0</td>\n      <td>0</td>\n      <td>0</td>\n      <td>99000.0</td>\n      <td>222768.0</td>\n      <td>17370.0</td>\n      <td>...</td>\n      <td>NaN</td>\n      <td>NaN</td>\n      <td>NaN</td>\n      <td>NaN</td>\n      <td>NaN</td>\n      <td>NaN</td>\n      <td>NaN</td>\n      <td>NaN</td>\n      <td>NaN</td>\n      <td>NaN</td>\n    </tr>\n    <tr>\n      <th>10002</th>\n      <td>2</td>\n      <td>100013</td>\n      <td>NaN</td>\n      <td>0</td>\n      <td>1</td>\n      <td>0</td>\n      <td>0</td>\n      <td>202500.0</td>\n      <td>663264.0</td>\n      <td>69777.0</td>\n      <td>...</td>\n      <td>NaN</td>\n      <td>NaN</td>\n      <td>NaN</td>\n      <td>NaN</td>\n      <td>NaN</td>\n      <td>NaN</td>\n      <td>NaN</td>\n      <td>NaN</td>\n      <td>NaN</td>\n      <td>NaN</td>\n    </tr>\n    <tr>\n      <th>10003</th>\n      <td>3</td>\n      <td>100028</td>\n      <td>NaN</td>\n      <td>1</td>\n      <td>0</td>\n      <td>0</td>\n      <td>2</td>\n      <td>315000.0</td>\n      <td>1575000.0</td>\n      <td>49018.5</td>\n      <td>...</td>\n      <td>NaN</td>\n      <td>NaN</td>\n      <td>NaN</td>\n      <td>NaN</td>\n      <td>NaN</td>\n      <td>NaN</td>\n      <td>NaN</td>\n      <td>NaN</td>\n      <td>NaN</td>\n      <td>NaN</td>\n    </tr>\n    <tr>\n      <th>10004</th>\n      <td>4</td>\n      <td>100038</td>\n      <td>NaN</td>\n      <td>0</td>\n      <td>1</td>\n      <td>1</td>\n      <td>1</td>\n      <td>180000.0</td>\n      <td>625500.0</td>\n      <td>32067.0</td>\n      <td>...</td>\n      <td>NaN</td>\n      <td>NaN</td>\n      <td>NaN</td>\n      <td>NaN</td>\n      <td>NaN</td>\n      <td>NaN</td>\n      <td>NaN</td>\n      <td>NaN</td>\n      <td>NaN</td>\n      <td>NaN</td>\n    </tr>\n  </tbody>\n</table>\n<p>5 rows × 768 columns</p>\n</div>"
     },
     "execution_count": 15,
     "metadata": {},
     "output_type": "execute_result"
    }
   ],
   "source": [
    "df.head()"
   ],
   "metadata": {
    "collapsed": false,
    "pycharm": {
     "name": "#%%\n"
    }
   }
  },
  {
   "cell_type": "code",
   "execution_count": 16,
   "outputs": [
    {
     "data": {
      "text/plain": "169"
     },
     "execution_count": 16,
     "metadata": {},
     "output_type": "execute_result"
    }
   ],
   "source": [
    "model\n"
   ],
   "metadata": {
    "collapsed": false,
    "pycharm": {
     "name": "#%%\n"
    }
   }
  },
  {
   "cell_type": "code",
   "execution_count": 14,
   "outputs": [],
   "source": [],
   "metadata": {
    "collapsed": false,
    "pycharm": {
     "name": "#%%\n"
    }
   }
  },
  {
   "cell_type": "code",
   "execution_count": 14,
   "outputs": [],
   "source": [],
   "metadata": {
    "collapsed": false,
    "pycharm": {
     "name": "#%%\n"
    }
   }
  }
 ],
 "metadata": {
  "kernelspec": {
   "display_name": "Python 3",
   "language": "python",
   "name": "python3"
  },
  "language_info": {
   "codemirror_mode": {
    "name": "ipython",
    "version": 2
   },
   "file_extension": ".py",
   "mimetype": "text/x-python",
   "name": "python",
   "nbconvert_exporter": "python",
   "pygments_lexer": "ipython2",
   "version": "2.7.6"
  }
 },
 "nbformat": 4,
 "nbformat_minor": 0
}