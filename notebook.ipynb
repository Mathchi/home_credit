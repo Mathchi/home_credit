{
 "cells": [
  {
   "cell_type": "code",
   "execution_count": 18,
   "metadata": {
    "collapsed": true
   },
   "outputs": [
    {
     "name": "stdout",
     "output_type": "stream",
     "text": [
      "/Users/mvahit/Documents/GitHub/home_credit/models/reference\n",
      "/Users/mvahit/Documents/GitHub/home_credit/models/reference\n"
     ]
    }
   ],
   "source": [
    "import os\n",
    "import pickle\n",
    "import pandas as pd\n",
    "\n",
    "print(os.getcwd())\n",
    "\n",
    "os.chdir('/Users/mvahit/Documents/GitHub/home_credit/models/reference')\n",
    "\n",
    "print(os.getcwd())\n",
    "\n",
    "model = pickle.load(open('lightgbm_fold_6.pkl', 'rb'))\n",
    "\n",
    "df = pd.read_pickle(\"/Users/mvahit/Documents/GitHub/home_credit/data/final_train_df.pkl\")\n",
    "\n",
    "y_train = df[\"TARGET\"]\n",
    "\n",
    "X_train = df.drop(\"TARGET\", axis=1)"
   ]
  },
  {
   "cell_type": "code",
   "execution_count": 19,
   "outputs": [
    {
     "data": {
      "text/plain": "   APP_index  SK_ID_CURR  APP_CODE_GENDER  APP_FLAG_OWN_CAR  \\\n0          0      100002                0                 0   \n1          1      100003                1                 0   \n2          2      100004                0                 1   \n3          3      100006                1                 0   \n4          4      100007                0                 0   \n\n   APP_FLAG_OWN_REALTY  APP_CNT_CHILDREN  APP_AMT_INCOME_TOTAL  \\\n0                    0                 0              202500.0   \n1                    1                 0              270000.0   \n2                    0                 0               67500.0   \n3                    0                 0              135000.0   \n4                    0                 0              121500.0   \n\n   APP_AMT_CREDIT  APP_AMT_ANNUITY  APP_AMT_GOODS_PRICE  ...  \\\n0        406597.5          24700.5             351000.0  ...   \n1       1293502.5          35698.5            1129500.0  ...   \n2        135000.0           6750.0             135000.0  ...   \n3        312682.5          29686.5             297000.0  ...   \n4        513000.0          21865.5             513000.0  ...   \n\n   CC_NAME_CONTRACT_STATUS_Signed_MAX  CC_NAME_CONTRACT_STATUS_Signed_MEAN  \\\n0                                 NaN                                  NaN   \n1                                 NaN                                  NaN   \n2                                 NaN                                  NaN   \n3                                 0.0                                  0.0   \n4                                 NaN                                  NaN   \n\n   CC_NAME_CONTRACT_STATUS_Signed_SUM  CC_NAME_CONTRACT_STATUS_Signed_VAR  \\\n0                                 NaN                                 NaN   \n1                                 NaN                                 NaN   \n2                                 NaN                                 NaN   \n3                                 0.0                                 0.0   \n4                                 NaN                                 NaN   \n\n   CC_NAME_CONTRACT_STATUS_nan_MIN  CC_NAME_CONTRACT_STATUS_nan_MAX  \\\n0                              NaN                              NaN   \n1                              NaN                              NaN   \n2                              NaN                              NaN   \n3                              0.0                              0.0   \n4                              NaN                              NaN   \n\n   CC_NAME_CONTRACT_STATUS_nan_MEAN  CC_NAME_CONTRACT_STATUS_nan_SUM  \\\n0                               NaN                              NaN   \n1                               NaN                              NaN   \n2                               NaN                              NaN   \n3                               0.0                              0.0   \n4                               NaN                              NaN   \n\n   CC_NAME_CONTRACT_STATUS_nan_VAR  CC_NEW_COUNT  \n0                              NaN           NaN  \n1                              NaN           NaN  \n2                              NaN           NaN  \n3                              0.0           6.0  \n4                              NaN           NaN  \n\n[5 rows x 797 columns]",
      "text/html": "<div>\n<style scoped>\n    .dataframe tbody tr th:only-of-type {\n        vertical-align: middle;\n    }\n\n    .dataframe tbody tr th {\n        vertical-align: top;\n    }\n\n    .dataframe thead th {\n        text-align: right;\n    }\n</style>\n<table border=\"1\" class=\"dataframe\">\n  <thead>\n    <tr style=\"text-align: right;\">\n      <th></th>\n      <th>APP_index</th>\n      <th>SK_ID_CURR</th>\n      <th>APP_CODE_GENDER</th>\n      <th>APP_FLAG_OWN_CAR</th>\n      <th>APP_FLAG_OWN_REALTY</th>\n      <th>APP_CNT_CHILDREN</th>\n      <th>APP_AMT_INCOME_TOTAL</th>\n      <th>APP_AMT_CREDIT</th>\n      <th>APP_AMT_ANNUITY</th>\n      <th>APP_AMT_GOODS_PRICE</th>\n      <th>...</th>\n      <th>CC_NAME_CONTRACT_STATUS_Signed_MAX</th>\n      <th>CC_NAME_CONTRACT_STATUS_Signed_MEAN</th>\n      <th>CC_NAME_CONTRACT_STATUS_Signed_SUM</th>\n      <th>CC_NAME_CONTRACT_STATUS_Signed_VAR</th>\n      <th>CC_NAME_CONTRACT_STATUS_nan_MIN</th>\n      <th>CC_NAME_CONTRACT_STATUS_nan_MAX</th>\n      <th>CC_NAME_CONTRACT_STATUS_nan_MEAN</th>\n      <th>CC_NAME_CONTRACT_STATUS_nan_SUM</th>\n      <th>CC_NAME_CONTRACT_STATUS_nan_VAR</th>\n      <th>CC_NEW_COUNT</th>\n    </tr>\n  </thead>\n  <tbody>\n    <tr>\n      <th>0</th>\n      <td>0</td>\n      <td>100002</td>\n      <td>0</td>\n      <td>0</td>\n      <td>0</td>\n      <td>0</td>\n      <td>202500.0</td>\n      <td>406597.5</td>\n      <td>24700.5</td>\n      <td>351000.0</td>\n      <td>...</td>\n      <td>NaN</td>\n      <td>NaN</td>\n      <td>NaN</td>\n      <td>NaN</td>\n      <td>NaN</td>\n      <td>NaN</td>\n      <td>NaN</td>\n      <td>NaN</td>\n      <td>NaN</td>\n      <td>NaN</td>\n    </tr>\n    <tr>\n      <th>1</th>\n      <td>1</td>\n      <td>100003</td>\n      <td>1</td>\n      <td>0</td>\n      <td>1</td>\n      <td>0</td>\n      <td>270000.0</td>\n      <td>1293502.5</td>\n      <td>35698.5</td>\n      <td>1129500.0</td>\n      <td>...</td>\n      <td>NaN</td>\n      <td>NaN</td>\n      <td>NaN</td>\n      <td>NaN</td>\n      <td>NaN</td>\n      <td>NaN</td>\n      <td>NaN</td>\n      <td>NaN</td>\n      <td>NaN</td>\n      <td>NaN</td>\n    </tr>\n    <tr>\n      <th>2</th>\n      <td>2</td>\n      <td>100004</td>\n      <td>0</td>\n      <td>1</td>\n      <td>0</td>\n      <td>0</td>\n      <td>67500.0</td>\n      <td>135000.0</td>\n      <td>6750.0</td>\n      <td>135000.0</td>\n      <td>...</td>\n      <td>NaN</td>\n      <td>NaN</td>\n      <td>NaN</td>\n      <td>NaN</td>\n      <td>NaN</td>\n      <td>NaN</td>\n      <td>NaN</td>\n      <td>NaN</td>\n      <td>NaN</td>\n      <td>NaN</td>\n    </tr>\n    <tr>\n      <th>3</th>\n      <td>3</td>\n      <td>100006</td>\n      <td>1</td>\n      <td>0</td>\n      <td>0</td>\n      <td>0</td>\n      <td>135000.0</td>\n      <td>312682.5</td>\n      <td>29686.5</td>\n      <td>297000.0</td>\n      <td>...</td>\n      <td>0.0</td>\n      <td>0.0</td>\n      <td>0.0</td>\n      <td>0.0</td>\n      <td>0.0</td>\n      <td>0.0</td>\n      <td>0.0</td>\n      <td>0.0</td>\n      <td>0.0</td>\n      <td>6.0</td>\n    </tr>\n    <tr>\n      <th>4</th>\n      <td>4</td>\n      <td>100007</td>\n      <td>0</td>\n      <td>0</td>\n      <td>0</td>\n      <td>0</td>\n      <td>121500.0</td>\n      <td>513000.0</td>\n      <td>21865.5</td>\n      <td>513000.0</td>\n      <td>...</td>\n      <td>NaN</td>\n      <td>NaN</td>\n      <td>NaN</td>\n      <td>NaN</td>\n      <td>NaN</td>\n      <td>NaN</td>\n      <td>NaN</td>\n      <td>NaN</td>\n      <td>NaN</td>\n      <td>NaN</td>\n    </tr>\n  </tbody>\n</table>\n<p>5 rows × 797 columns</p>\n</div>"
     },
     "execution_count": 19,
     "metadata": {},
     "output_type": "execute_result"
    }
   ],
   "source": [
    "X_train.head()"
   ],
   "metadata": {
    "collapsed": false,
    "pycharm": {
     "name": "#%%\n"
    }
   }
  },
  {
   "cell_type": "code",
   "execution_count": 17,
   "outputs": [
    {
     "ename": "ValueError",
     "evalue": "Number of features of the model must match the input. Model n_features_ is 765 and input n_features is 767 ",
     "output_type": "error",
     "traceback": [
      "\u001B[0;31m---------------------------------------------------------------------------\u001B[0m",
      "\u001B[0;31mValueError\u001B[0m                                Traceback (most recent call last)",
      "\u001B[0;32m<ipython-input-17-e1c24bfa4c5a>\u001B[0m in \u001B[0;36m<module>\u001B[0;34m\u001B[0m\n\u001B[0;32m----> 1\u001B[0;31m \u001B[0mmodel\u001B[0m\u001B[0;34m.\u001B[0m\u001B[0mpredict\u001B[0m\u001B[0;34m(\u001B[0m\u001B[0mX_train\u001B[0m\u001B[0;34m.\u001B[0m\u001B[0mhead\u001B[0m\u001B[0;34m(\u001B[0m\u001B[0;34m)\u001B[0m\u001B[0;34m)\u001B[0m\u001B[0;34m\u001B[0m\u001B[0;34m\u001B[0m\u001B[0m\n\u001B[0m\u001B[1;32m      2\u001B[0m \u001B[0;34m\u001B[0m\u001B[0m\n",
      "\u001B[0;32m~/anaconda3/envs/home_credit/lib/python3.7/site-packages/lightgbm/sklearn.py\u001B[0m in \u001B[0;36mpredict\u001B[0;34m(self, X, raw_score, num_iteration, pred_leaf, pred_contrib, **kwargs)\u001B[0m\n\u001B[1;32m    807\u001B[0m         \u001B[0;34m\"\"\"Docstring is inherited from the LGBMModel.\"\"\"\u001B[0m\u001B[0;34m\u001B[0m\u001B[0;34m\u001B[0m\u001B[0m\n\u001B[1;32m    808\u001B[0m         result = self.predict_proba(X, raw_score, num_iteration,\n\u001B[0;32m--> 809\u001B[0;31m                                     pred_leaf, pred_contrib, **kwargs)\n\u001B[0m\u001B[1;32m    810\u001B[0m         \u001B[0;32mif\u001B[0m \u001B[0mraw_score\u001B[0m \u001B[0;32mor\u001B[0m \u001B[0mpred_leaf\u001B[0m \u001B[0;32mor\u001B[0m \u001B[0mpred_contrib\u001B[0m\u001B[0;34m:\u001B[0m\u001B[0;34m\u001B[0m\u001B[0;34m\u001B[0m\u001B[0m\n\u001B[1;32m    811\u001B[0m             \u001B[0;32mreturn\u001B[0m \u001B[0mresult\u001B[0m\u001B[0;34m\u001B[0m\u001B[0;34m\u001B[0m\u001B[0m\n",
      "\u001B[0;32m~/anaconda3/envs/home_credit/lib/python3.7/site-packages/lightgbm/sklearn.py\u001B[0m in \u001B[0;36mpredict_proba\u001B[0;34m(self, X, raw_score, num_iteration, pred_leaf, pred_contrib, **kwargs)\u001B[0m\n\u001B[1;32m    856\u001B[0m         \"\"\"\n\u001B[1;32m    857\u001B[0m         result = super(LGBMClassifier, self).predict(X, raw_score, num_iteration,\n\u001B[0;32m--> 858\u001B[0;31m                                                      pred_leaf, pred_contrib, **kwargs)\n\u001B[0m\u001B[1;32m    859\u001B[0m         \u001B[0;32mif\u001B[0m \u001B[0mself\u001B[0m\u001B[0;34m.\u001B[0m\u001B[0m_n_classes\u001B[0m \u001B[0;34m>\u001B[0m \u001B[0;36m2\u001B[0m \u001B[0;32mor\u001B[0m \u001B[0mraw_score\u001B[0m \u001B[0;32mor\u001B[0m \u001B[0mpred_leaf\u001B[0m \u001B[0;32mor\u001B[0m \u001B[0mpred_contrib\u001B[0m\u001B[0;34m:\u001B[0m\u001B[0;34m\u001B[0m\u001B[0;34m\u001B[0m\u001B[0m\n\u001B[1;32m    860\u001B[0m             \u001B[0;32mreturn\u001B[0m \u001B[0mresult\u001B[0m\u001B[0;34m\u001B[0m\u001B[0;34m\u001B[0m\u001B[0m\n",
      "\u001B[0;32m~/anaconda3/envs/home_credit/lib/python3.7/site-packages/lightgbm/sklearn.py\u001B[0m in \u001B[0;36mpredict\u001B[0;34m(self, X, raw_score, num_iteration, pred_leaf, pred_contrib, **kwargs)\u001B[0m\n\u001B[1;32m    656\u001B[0m                              \u001B[0;34m\"match the input. Model n_features_ is %s and \"\u001B[0m\u001B[0;34m\u001B[0m\u001B[0;34m\u001B[0m\u001B[0m\n\u001B[1;32m    657\u001B[0m                              \u001B[0;34m\"input n_features is %s \"\u001B[0m\u001B[0;34m\u001B[0m\u001B[0;34m\u001B[0m\u001B[0m\n\u001B[0;32m--> 658\u001B[0;31m                              % (self._n_features, n_features))\n\u001B[0m\u001B[1;32m    659\u001B[0m         return self.booster_.predict(X, raw_score=raw_score, num_iteration=num_iteration,\n\u001B[1;32m    660\u001B[0m                                      pred_leaf=pred_leaf, pred_contrib=pred_contrib, **kwargs)\n",
      "\u001B[0;31mValueError\u001B[0m: Number of features of the model must match the input. Model n_features_ is 765 and input n_features is 767 "
     ]
    }
   ],
   "source": [
    "model.predict(X_train.head())"
   ],
   "metadata": {
    "collapsed": false,
    "pycharm": {
     "name": "#%%\n"
    }
   }
  },
  {
   "cell_type": "code",
   "execution_count": 26,
   "outputs": [
    {
     "data": {
      "text/plain": "1.0"
     },
     "execution_count": 26,
     "metadata": {},
     "output_type": "execute_result"
    }
   ],
   "source": [
    "round(X_train.sort_values(by=\"SK_ID_CURR\", ascending=False)[:3][\"APP_CODE_GENDER\"].mean(),0)"
   ],
   "metadata": {
    "collapsed": false,
    "pycharm": {
     "name": "#%%\n"
    }
   }
  },
  {
   "cell_type": "code",
   "execution_count": 27,
   "outputs": [],
   "source": [
    "df = pd.read_pickle(\"/Users/mvahit/Documents/GitHub/home_credit/features/feature_importance_df.pkl\")"
   ],
   "metadata": {
    "collapsed": false,
    "pycharm": {
     "name": "#%%\n"
    }
   }
  },
  {
   "cell_type": "code",
   "execution_count": 32,
   "outputs": [
    {
     "data": {
      "text/plain": "                                feature  importance  fold\n32                     APP_EXT_SOURCE_3         383     4\n32                     APP_EXT_SOURCE_3         354     1\n32                     APP_EXT_SOURCE_3         333     3\n31                     APP_EXT_SOURCE_2         315     1\n32                     APP_EXT_SOURCE_3         292    10\n..                                  ...         ...   ...\n439    PREV_CODE_REJECT_REASON_nan_MEAN           0     4\n438    PREV_CODE_REJECT_REASON_XNA_MEAN           0     4\n437    PREV_CODE_REJECT_REASON_XAP_MEAN           0     4\n436  PREV_CODE_REJECT_REASON_VERIF_MEAN           0     4\n764                        CC_NEW_COUNT           0    10\n\n[7650 rows x 3 columns]",
      "text/html": "<div>\n<style scoped>\n    .dataframe tbody tr th:only-of-type {\n        vertical-align: middle;\n    }\n\n    .dataframe tbody tr th {\n        vertical-align: top;\n    }\n\n    .dataframe thead th {\n        text-align: right;\n    }\n</style>\n<table border=\"1\" class=\"dataframe\">\n  <thead>\n    <tr style=\"text-align: right;\">\n      <th></th>\n      <th>feature</th>\n      <th>importance</th>\n      <th>fold</th>\n    </tr>\n  </thead>\n  <tbody>\n    <tr>\n      <th>32</th>\n      <td>APP_EXT_SOURCE_3</td>\n      <td>383</td>\n      <td>4</td>\n    </tr>\n    <tr>\n      <th>32</th>\n      <td>APP_EXT_SOURCE_3</td>\n      <td>354</td>\n      <td>1</td>\n    </tr>\n    <tr>\n      <th>32</th>\n      <td>APP_EXT_SOURCE_3</td>\n      <td>333</td>\n      <td>3</td>\n    </tr>\n    <tr>\n      <th>31</th>\n      <td>APP_EXT_SOURCE_2</td>\n      <td>315</td>\n      <td>1</td>\n    </tr>\n    <tr>\n      <th>32</th>\n      <td>APP_EXT_SOURCE_3</td>\n      <td>292</td>\n      <td>10</td>\n    </tr>\n    <tr>\n      <th>...</th>\n      <td>...</td>\n      <td>...</td>\n      <td>...</td>\n    </tr>\n    <tr>\n      <th>439</th>\n      <td>PREV_CODE_REJECT_REASON_nan_MEAN</td>\n      <td>0</td>\n      <td>4</td>\n    </tr>\n    <tr>\n      <th>438</th>\n      <td>PREV_CODE_REJECT_REASON_XNA_MEAN</td>\n      <td>0</td>\n      <td>4</td>\n    </tr>\n    <tr>\n      <th>437</th>\n      <td>PREV_CODE_REJECT_REASON_XAP_MEAN</td>\n      <td>0</td>\n      <td>4</td>\n    </tr>\n    <tr>\n      <th>436</th>\n      <td>PREV_CODE_REJECT_REASON_VERIF_MEAN</td>\n      <td>0</td>\n      <td>4</td>\n    </tr>\n    <tr>\n      <th>764</th>\n      <td>CC_NEW_COUNT</td>\n      <td>0</td>\n      <td>10</td>\n    </tr>\n  </tbody>\n</table>\n<p>7650 rows × 3 columns</p>\n</div>"
     },
     "execution_count": 32,
     "metadata": {},
     "output_type": "execute_result"
    }
   ],
   "source": [
    "df.sort_values(by=\"importance\",ascending=False)\n"
   ],
   "metadata": {
    "collapsed": false,
    "pycharm": {
     "name": "#%%\n"
    }
   }
  }
 ],
 "metadata": {
  "kernelspec": {
   "display_name": "Python 3",
   "language": "python",
   "name": "python3"
  },
  "language_info": {
   "codemirror_mode": {
    "name": "ipython",
    "version": 2
   },
   "file_extension": ".py",
   "mimetype": "text/x-python",
   "name": "python",
   "nbconvert_exporter": "python",
   "pygments_lexer": "ipython2",
   "version": "2.7.6"
  }
 },
 "nbformat": 4,
 "nbformat_minor": 0
}